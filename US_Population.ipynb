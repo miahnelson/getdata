{
 "cells": [
  {
   "cell_type": "markdown",
   "metadata": {},
   "source": [
    "# US Population Data\n",
    "\n",
    "#### First we need to open the chosen data source. In this case we are using data from census.gov. Census.gov provides several various datasets for our consumption in this case our data is in xlsx format. There is no need to download this xlsx file as pnadas will retrieve it for us. \n",
    "\n",
    "[census.gov data](https://www.census.gov/data/datasets/time-series/demo/popest/2010s-state-total.html)\n"
   ]
  },
  {
   "cell_type": "code",
   "execution_count": 9,
   "metadata": {},
   "outputs": [
    {
     "output_type": "execute_result",
     "data": {
      "text/plain": [
       "  table with row headers in column A and column headers in rows 3 through 4. (leading dots indicate sub-parts)  \\\n",
       "0  Table 1. Annual Estimates of the Resident Popu...                                                             \n",
       "1                                    Geographic Area                                                             \n",
       "2                                                NaN                                                             \n",
       "3                                      United States                                                             \n",
       "4                                          Northeast                                                             \n",
       "5                                            Midwest                                                             \n",
       "6                                              South                                                             \n",
       "7                                               West                                                             \n",
       "8                                           .Alabama                                                             \n",
       "9                                            .Alaska                                                             \n",
       "\n",
       "            Unnamed: 1      Unnamed: 2                          Unnamed: 3  \\\n",
       "0                  NaN             NaN                                 NaN   \n",
       "1  2010-04-01 00:00:00             NaN  Population Estimate (as of July 1)   \n",
       "2               Census  Estimates Base                                2010   \n",
       "3            308745538       308758105                           309321666   \n",
       "4             55317240        55318443                            55380134   \n",
       "5             66927001        66929725                            66974416   \n",
       "6            114555744       114563030                           114866680   \n",
       "7             71945553        71946907                            72100436   \n",
       "8              4779736         4780125                             4785437   \n",
       "9               710231          710249                              713910   \n",
       "\n",
       "    Unnamed: 4   Unnamed: 5   Unnamed: 6   Unnamed: 7   Unnamed: 8  \\\n",
       "0          NaN          NaN          NaN          NaN          NaN   \n",
       "1          NaN          NaN          NaN          NaN          NaN   \n",
       "2       2011.0       2012.0       2013.0       2014.0       2015.0   \n",
       "3  311556874.0  313830990.0  315993715.0  318301008.0  320635163.0   \n",
       "4   55604223.0   55775216.0   55901806.0   56006011.0   56034684.0   \n",
       "5   67157800.0   67336743.0   67560379.0   67745167.0   67860583.0   \n",
       "6  116006522.0  117241208.0  118364400.0  119624037.0  120997341.0   \n",
       "7   72788329.0   73477823.0   74167130.0   74925793.0   75742555.0   \n",
       "8    4799069.0    4815588.0    4830081.0    4841799.0    4852347.0   \n",
       "9     722128.0     730443.0     737068.0     736283.0     737498.0   \n",
       "\n",
       "    Unnamed: 9  Unnamed: 10  Unnamed: 11  Unnamed: 12  \n",
       "0          NaN          NaN          NaN          NaN  \n",
       "1          NaN          NaN          NaN          NaN  \n",
       "2       2016.0       2017.0       2018.0       2019.0  \n",
       "3  322941311.0  324985539.0  326687501.0  328239523.0  \n",
       "4   56042330.0   56059240.0   56046620.0   55982803.0  \n",
       "5   67987540.0   68126781.0   68236628.0   68329004.0  \n",
       "6  122351760.0  123542189.0  124569433.0  125580448.0  \n",
       "7   76559681.0   77257329.0   77834820.0   78347268.0  \n",
       "8    4863525.0    4874486.0    4887681.0    4903185.0  \n",
       "9     741456.0     739700.0     735139.0     731545.0  "
      ],
      "text/html": "<div>\n<style scoped>\n    .dataframe tbody tr th:only-of-type {\n        vertical-align: middle;\n    }\n\n    .dataframe tbody tr th {\n        vertical-align: top;\n    }\n\n    .dataframe thead th {\n        text-align: right;\n    }\n</style>\n<table border=\"1\" class=\"dataframe\">\n  <thead>\n    <tr style=\"text-align: right;\">\n      <th></th>\n      <th>table with row headers in column A and column headers in rows 3 through 4. (leading dots indicate sub-parts)</th>\n      <th>Unnamed: 1</th>\n      <th>Unnamed: 2</th>\n      <th>Unnamed: 3</th>\n      <th>Unnamed: 4</th>\n      <th>Unnamed: 5</th>\n      <th>Unnamed: 6</th>\n      <th>Unnamed: 7</th>\n      <th>Unnamed: 8</th>\n      <th>Unnamed: 9</th>\n      <th>Unnamed: 10</th>\n      <th>Unnamed: 11</th>\n      <th>Unnamed: 12</th>\n    </tr>\n  </thead>\n  <tbody>\n    <tr>\n      <th>0</th>\n      <td>Table 1. Annual Estimates of the Resident Popu...</td>\n      <td>NaN</td>\n      <td>NaN</td>\n      <td>NaN</td>\n      <td>NaN</td>\n      <td>NaN</td>\n      <td>NaN</td>\n      <td>NaN</td>\n      <td>NaN</td>\n      <td>NaN</td>\n      <td>NaN</td>\n      <td>NaN</td>\n      <td>NaN</td>\n    </tr>\n    <tr>\n      <th>1</th>\n      <td>Geographic Area</td>\n      <td>2010-04-01 00:00:00</td>\n      <td>NaN</td>\n      <td>Population Estimate (as of July 1)</td>\n      <td>NaN</td>\n      <td>NaN</td>\n      <td>NaN</td>\n      <td>NaN</td>\n      <td>NaN</td>\n      <td>NaN</td>\n      <td>NaN</td>\n      <td>NaN</td>\n      <td>NaN</td>\n    </tr>\n    <tr>\n      <th>2</th>\n      <td>NaN</td>\n      <td>Census</td>\n      <td>Estimates Base</td>\n      <td>2010</td>\n      <td>2011.0</td>\n      <td>2012.0</td>\n      <td>2013.0</td>\n      <td>2014.0</td>\n      <td>2015.0</td>\n      <td>2016.0</td>\n      <td>2017.0</td>\n      <td>2018.0</td>\n      <td>2019.0</td>\n    </tr>\n    <tr>\n      <th>3</th>\n      <td>United States</td>\n      <td>308745538</td>\n      <td>308758105</td>\n      <td>309321666</td>\n      <td>311556874.0</td>\n      <td>313830990.0</td>\n      <td>315993715.0</td>\n      <td>318301008.0</td>\n      <td>320635163.0</td>\n      <td>322941311.0</td>\n      <td>324985539.0</td>\n      <td>326687501.0</td>\n      <td>328239523.0</td>\n    </tr>\n    <tr>\n      <th>4</th>\n      <td>Northeast</td>\n      <td>55317240</td>\n      <td>55318443</td>\n      <td>55380134</td>\n      <td>55604223.0</td>\n      <td>55775216.0</td>\n      <td>55901806.0</td>\n      <td>56006011.0</td>\n      <td>56034684.0</td>\n      <td>56042330.0</td>\n      <td>56059240.0</td>\n      <td>56046620.0</td>\n      <td>55982803.0</td>\n    </tr>\n    <tr>\n      <th>5</th>\n      <td>Midwest</td>\n      <td>66927001</td>\n      <td>66929725</td>\n      <td>66974416</td>\n      <td>67157800.0</td>\n      <td>67336743.0</td>\n      <td>67560379.0</td>\n      <td>67745167.0</td>\n      <td>67860583.0</td>\n      <td>67987540.0</td>\n      <td>68126781.0</td>\n      <td>68236628.0</td>\n      <td>68329004.0</td>\n    </tr>\n    <tr>\n      <th>6</th>\n      <td>South</td>\n      <td>114555744</td>\n      <td>114563030</td>\n      <td>114866680</td>\n      <td>116006522.0</td>\n      <td>117241208.0</td>\n      <td>118364400.0</td>\n      <td>119624037.0</td>\n      <td>120997341.0</td>\n      <td>122351760.0</td>\n      <td>123542189.0</td>\n      <td>124569433.0</td>\n      <td>125580448.0</td>\n    </tr>\n    <tr>\n      <th>7</th>\n      <td>West</td>\n      <td>71945553</td>\n      <td>71946907</td>\n      <td>72100436</td>\n      <td>72788329.0</td>\n      <td>73477823.0</td>\n      <td>74167130.0</td>\n      <td>74925793.0</td>\n      <td>75742555.0</td>\n      <td>76559681.0</td>\n      <td>77257329.0</td>\n      <td>77834820.0</td>\n      <td>78347268.0</td>\n    </tr>\n    <tr>\n      <th>8</th>\n      <td>.Alabama</td>\n      <td>4779736</td>\n      <td>4780125</td>\n      <td>4785437</td>\n      <td>4799069.0</td>\n      <td>4815588.0</td>\n      <td>4830081.0</td>\n      <td>4841799.0</td>\n      <td>4852347.0</td>\n      <td>4863525.0</td>\n      <td>4874486.0</td>\n      <td>4887681.0</td>\n      <td>4903185.0</td>\n    </tr>\n    <tr>\n      <th>9</th>\n      <td>.Alaska</td>\n      <td>710231</td>\n      <td>710249</td>\n      <td>713910</td>\n      <td>722128.0</td>\n      <td>730443.0</td>\n      <td>737068.0</td>\n      <td>736283.0</td>\n      <td>737498.0</td>\n      <td>741456.0</td>\n      <td>739700.0</td>\n      <td>735139.0</td>\n      <td>731545.0</td>\n    </tr>\n  </tbody>\n</table>\n</div>"
     },
     "metadata": {},
     "execution_count": 9
    }
   ],
   "source": [
    "import pandas as pd\n",
    "\n",
    "df = pd.read_excel('https://www2.census.gov/programs-surveys/popest/tables/2010-2019/state/totals/nst-est2019-01.xlsx')\n",
    "\n",
    "df.head(10)"
   ]
  },
  {
   "cell_type": "markdown",
   "metadata": {},
   "source": [
    "#### Next we need to clean up our data\n",
    "\n",
    "#### You can see that our headers are in row index 2\n",
    "\n",
    "#### We can extract our headers to a new series"
   ]
  },
  {
   "cell_type": "code",
   "execution_count": 10,
   "metadata": {},
   "outputs": [
    {
     "output_type": "execute_result",
     "data": {
      "text/plain": [
       "table with row headers in column A and column headers in rows 3 through 4. (leading dots indicate sub-parts)               NaN\n",
       "Unnamed: 1                                                                                                              Census\n",
       "Unnamed: 2                                                                                                      Estimates Base\n",
       "Unnamed: 3                                                                                                                2010\n",
       "Unnamed: 4                                                                                                                2011\n",
       "Unnamed: 5                                                                                                                2012\n",
       "Unnamed: 6                                                                                                                2013\n",
       "Unnamed: 7                                                                                                                2014\n",
       "Unnamed: 8                                                                                                                2015\n",
       "Unnamed: 9                                                                                                                2016\n",
       "Unnamed: 10                                                                                                               2017\n",
       "Unnamed: 11                                                                                                               2018\n",
       "Unnamed: 12                                                                                                               2019\n",
       "Name: 2, dtype: object"
      ]
     },
     "metadata": {},
     "execution_count": 10
    }
   ],
   "source": [
    "new_header = df.iloc[2] \n",
    "new_header"
   ]
  },
  {
   "cell_type": "markdown",
   "metadata": {},
   "source": [
    "#### Next we only want state an territory data so we can remove any aggregate rows or non data rows from our dataset\n",
    "\n",
    "#### Looking at the the above dataframe we can see that our states and territories start at row 10. We can therefore discard everythiong above row 10"
   ]
  },
  {
   "cell_type": "code",
   "execution_count": 11,
   "metadata": {},
   "outputs": [
    {
     "output_type": "execute_result",
     "data": {
      "text/plain": [
       "   table with row headers in column A and column headers in rows 3 through 4. (leading dots indicate sub-parts)  \\\n",
       "10                                           .Arizona                                                             \n",
       "11                                          .Arkansas                                                             \n",
       "12                                        .California                                                             \n",
       "13                                          .Colorado                                                             \n",
       "14                                       .Connecticut                                                             \n",
       "\n",
       "   Unnamed: 1 Unnamed: 2 Unnamed: 3  Unnamed: 4  Unnamed: 5  Unnamed: 6  \\\n",
       "10    6392017    6392288    6407172   6472643.0   6554978.0   6632764.0   \n",
       "11    2915918    2916031    2921964   2940667.0   2952164.0   2959400.0   \n",
       "12   37253956   37254519   37319502  37638369.0  37948800.0  38260787.0   \n",
       "13    5029196    5029319    5047349   5121108.0   5192647.0   5269035.0   \n",
       "14    3574097    3574147    3579114   3588283.0   3594547.0   3594841.0   \n",
       "\n",
       "    Unnamed: 7  Unnamed: 8  Unnamed: 9  Unnamed: 10  Unnamed: 11  Unnamed: 12  \n",
       "10   6730413.0   6829676.0   6941072.0    7044008.0    7158024.0    7278717.0  \n",
       "11   2967392.0   2978048.0   2989918.0    3001345.0    3009733.0    3017804.0  \n",
       "12  38596972.0  38918045.0  39167117.0   39358497.0   39461588.0   39512223.0  \n",
       "13   5350101.0   5450623.0   5539215.0    5611885.0    5691287.0    5758736.0  \n",
       "14   3594524.0   3587122.0   3578141.0    3573297.0    3571520.0    3565287.0  "
      ],
      "text/html": "<div>\n<style scoped>\n    .dataframe tbody tr th:only-of-type {\n        vertical-align: middle;\n    }\n\n    .dataframe tbody tr th {\n        vertical-align: top;\n    }\n\n    .dataframe thead th {\n        text-align: right;\n    }\n</style>\n<table border=\"1\" class=\"dataframe\">\n  <thead>\n    <tr style=\"text-align: right;\">\n      <th></th>\n      <th>table with row headers in column A and column headers in rows 3 through 4. (leading dots indicate sub-parts)</th>\n      <th>Unnamed: 1</th>\n      <th>Unnamed: 2</th>\n      <th>Unnamed: 3</th>\n      <th>Unnamed: 4</th>\n      <th>Unnamed: 5</th>\n      <th>Unnamed: 6</th>\n      <th>Unnamed: 7</th>\n      <th>Unnamed: 8</th>\n      <th>Unnamed: 9</th>\n      <th>Unnamed: 10</th>\n      <th>Unnamed: 11</th>\n      <th>Unnamed: 12</th>\n    </tr>\n  </thead>\n  <tbody>\n    <tr>\n      <th>10</th>\n      <td>.Arizona</td>\n      <td>6392017</td>\n      <td>6392288</td>\n      <td>6407172</td>\n      <td>6472643.0</td>\n      <td>6554978.0</td>\n      <td>6632764.0</td>\n      <td>6730413.0</td>\n      <td>6829676.0</td>\n      <td>6941072.0</td>\n      <td>7044008.0</td>\n      <td>7158024.0</td>\n      <td>7278717.0</td>\n    </tr>\n    <tr>\n      <th>11</th>\n      <td>.Arkansas</td>\n      <td>2915918</td>\n      <td>2916031</td>\n      <td>2921964</td>\n      <td>2940667.0</td>\n      <td>2952164.0</td>\n      <td>2959400.0</td>\n      <td>2967392.0</td>\n      <td>2978048.0</td>\n      <td>2989918.0</td>\n      <td>3001345.0</td>\n      <td>3009733.0</td>\n      <td>3017804.0</td>\n    </tr>\n    <tr>\n      <th>12</th>\n      <td>.California</td>\n      <td>37253956</td>\n      <td>37254519</td>\n      <td>37319502</td>\n      <td>37638369.0</td>\n      <td>37948800.0</td>\n      <td>38260787.0</td>\n      <td>38596972.0</td>\n      <td>38918045.0</td>\n      <td>39167117.0</td>\n      <td>39358497.0</td>\n      <td>39461588.0</td>\n      <td>39512223.0</td>\n    </tr>\n    <tr>\n      <th>13</th>\n      <td>.Colorado</td>\n      <td>5029196</td>\n      <td>5029319</td>\n      <td>5047349</td>\n      <td>5121108.0</td>\n      <td>5192647.0</td>\n      <td>5269035.0</td>\n      <td>5350101.0</td>\n      <td>5450623.0</td>\n      <td>5539215.0</td>\n      <td>5611885.0</td>\n      <td>5691287.0</td>\n      <td>5758736.0</td>\n    </tr>\n    <tr>\n      <th>14</th>\n      <td>.Connecticut</td>\n      <td>3574097</td>\n      <td>3574147</td>\n      <td>3579114</td>\n      <td>3588283.0</td>\n      <td>3594547.0</td>\n      <td>3594841.0</td>\n      <td>3594524.0</td>\n      <td>3587122.0</td>\n      <td>3578141.0</td>\n      <td>3573297.0</td>\n      <td>3571520.0</td>\n      <td>3565287.0</td>\n    </tr>\n  </tbody>\n</table>\n</div>"
     },
     "metadata": {},
     "execution_count": 11
    }
   ],
   "source": [
    "df = df[10:]\n",
    "\n",
    "df.head()"
   ]
  },
  {
   "cell_type": "markdown",
   "metadata": {},
   "source": [
    "#### We can also see whn reviewing the dataset that there are 5 non-data rows at the end of the dataset. We can discard these rows as well"
   ]
  },
  {
   "cell_type": "code",
   "execution_count": 12,
   "metadata": {},
   "outputs": [
    {
     "output_type": "execute_result",
     "data": {
      "text/plain": [
       "   table with row headers in column A and column headers in rows 3 through 4. (leading dots indicate sub-parts)  \\\n",
       "51                                             .Texas                                                             \n",
       "52                                              .Utah                                                             \n",
       "53                                           .Vermont                                                             \n",
       "54                                          .Virginia                                                             \n",
       "55                                        .Washington                                                             \n",
       "56                                     .West Virginia                                                             \n",
       "57                                         .Wisconsin                                                             \n",
       "58                                           .Wyoming                                                             \n",
       "59                                                NaN                                                             \n",
       "60                                        Puerto Rico                                                             \n",
       "\n",
       "   Unnamed: 1 Unnamed: 2 Unnamed: 3  Unnamed: 4  Unnamed: 5  Unnamed: 6  \\\n",
       "51   25145561   25146091   25241971  25645629.0  26084481.0  26480266.0   \n",
       "52    2763885    2763891    2775332   2814384.0   2853375.0   2897640.0   \n",
       "53     625741     625737     625879    627049.0    626090.0    626210.0   \n",
       "54    8001024    8001049    8023699   8101155.0   8185080.0   8252427.0   \n",
       "55    6724540    6724540    6742830   6826627.0   6897058.0   6963985.0   \n",
       "56    1852994    1853018    1854239   1856301.0   1856872.0   1853914.0   \n",
       "57    5686986    5687285    5690475   5705288.0   5719960.0   5736754.0   \n",
       "58     563626     563775     564487    567299.0    576305.0    582122.0   \n",
       "59        NaN        NaN        NaN         NaN         NaN         NaN   \n",
       "60    3725789    3726157    3721525   3678732.0   3634488.0   3593077.0   \n",
       "\n",
       "    Unnamed: 7  Unnamed: 8  Unnamed: 9  Unnamed: 10  Unnamed: 11  Unnamed: 12  \n",
       "51  26964333.0  27470056.0  27914410.0   28295273.0   28628666.0   28995881.0  \n",
       "52   2936879.0   2981835.0   3041868.0    3101042.0    3153550.0    3205958.0  \n",
       "53    625214.0    625216.0    623657.0     624344.0     624358.0     623989.0  \n",
       "54   8310993.0   8361808.0   8410106.0    8463587.0    8501286.0    8535519.0  \n",
       "55   7054655.0   7163657.0   7294771.0    7423362.0    7523869.0    7614893.0  \n",
       "56   1849489.0   1842050.0   1831023.0    1817004.0    1804291.0    1792147.0  \n",
       "57   5751525.0   5760940.0   5772628.0    5790186.0    5807406.0    5822434.0  \n",
       "58    582531.0    585613.0    584215.0     578931.0     577601.0     578759.0  \n",
       "59         NaN         NaN         NaN          NaN          NaN          NaN  \n",
       "60   3534874.0   3473232.0   3406672.0    3325286.0    3193354.0    3193694.0  "
      ],
      "text/html": "<div>\n<style scoped>\n    .dataframe tbody tr th:only-of-type {\n        vertical-align: middle;\n    }\n\n    .dataframe tbody tr th {\n        vertical-align: top;\n    }\n\n    .dataframe thead th {\n        text-align: right;\n    }\n</style>\n<table border=\"1\" class=\"dataframe\">\n  <thead>\n    <tr style=\"text-align: right;\">\n      <th></th>\n      <th>table with row headers in column A and column headers in rows 3 through 4. (leading dots indicate sub-parts)</th>\n      <th>Unnamed: 1</th>\n      <th>Unnamed: 2</th>\n      <th>Unnamed: 3</th>\n      <th>Unnamed: 4</th>\n      <th>Unnamed: 5</th>\n      <th>Unnamed: 6</th>\n      <th>Unnamed: 7</th>\n      <th>Unnamed: 8</th>\n      <th>Unnamed: 9</th>\n      <th>Unnamed: 10</th>\n      <th>Unnamed: 11</th>\n      <th>Unnamed: 12</th>\n    </tr>\n  </thead>\n  <tbody>\n    <tr>\n      <th>51</th>\n      <td>.Texas</td>\n      <td>25145561</td>\n      <td>25146091</td>\n      <td>25241971</td>\n      <td>25645629.0</td>\n      <td>26084481.0</td>\n      <td>26480266.0</td>\n      <td>26964333.0</td>\n      <td>27470056.0</td>\n      <td>27914410.0</td>\n      <td>28295273.0</td>\n      <td>28628666.0</td>\n      <td>28995881.0</td>\n    </tr>\n    <tr>\n      <th>52</th>\n      <td>.Utah</td>\n      <td>2763885</td>\n      <td>2763891</td>\n      <td>2775332</td>\n      <td>2814384.0</td>\n      <td>2853375.0</td>\n      <td>2897640.0</td>\n      <td>2936879.0</td>\n      <td>2981835.0</td>\n      <td>3041868.0</td>\n      <td>3101042.0</td>\n      <td>3153550.0</td>\n      <td>3205958.0</td>\n    </tr>\n    <tr>\n      <th>53</th>\n      <td>.Vermont</td>\n      <td>625741</td>\n      <td>625737</td>\n      <td>625879</td>\n      <td>627049.0</td>\n      <td>626090.0</td>\n      <td>626210.0</td>\n      <td>625214.0</td>\n      <td>625216.0</td>\n      <td>623657.0</td>\n      <td>624344.0</td>\n      <td>624358.0</td>\n      <td>623989.0</td>\n    </tr>\n    <tr>\n      <th>54</th>\n      <td>.Virginia</td>\n      <td>8001024</td>\n      <td>8001049</td>\n      <td>8023699</td>\n      <td>8101155.0</td>\n      <td>8185080.0</td>\n      <td>8252427.0</td>\n      <td>8310993.0</td>\n      <td>8361808.0</td>\n      <td>8410106.0</td>\n      <td>8463587.0</td>\n      <td>8501286.0</td>\n      <td>8535519.0</td>\n    </tr>\n    <tr>\n      <th>55</th>\n      <td>.Washington</td>\n      <td>6724540</td>\n      <td>6724540</td>\n      <td>6742830</td>\n      <td>6826627.0</td>\n      <td>6897058.0</td>\n      <td>6963985.0</td>\n      <td>7054655.0</td>\n      <td>7163657.0</td>\n      <td>7294771.0</td>\n      <td>7423362.0</td>\n      <td>7523869.0</td>\n      <td>7614893.0</td>\n    </tr>\n    <tr>\n      <th>56</th>\n      <td>.West Virginia</td>\n      <td>1852994</td>\n      <td>1853018</td>\n      <td>1854239</td>\n      <td>1856301.0</td>\n      <td>1856872.0</td>\n      <td>1853914.0</td>\n      <td>1849489.0</td>\n      <td>1842050.0</td>\n      <td>1831023.0</td>\n      <td>1817004.0</td>\n      <td>1804291.0</td>\n      <td>1792147.0</td>\n    </tr>\n    <tr>\n      <th>57</th>\n      <td>.Wisconsin</td>\n      <td>5686986</td>\n      <td>5687285</td>\n      <td>5690475</td>\n      <td>5705288.0</td>\n      <td>5719960.0</td>\n      <td>5736754.0</td>\n      <td>5751525.0</td>\n      <td>5760940.0</td>\n      <td>5772628.0</td>\n      <td>5790186.0</td>\n      <td>5807406.0</td>\n      <td>5822434.0</td>\n    </tr>\n    <tr>\n      <th>58</th>\n      <td>.Wyoming</td>\n      <td>563626</td>\n      <td>563775</td>\n      <td>564487</td>\n      <td>567299.0</td>\n      <td>576305.0</td>\n      <td>582122.0</td>\n      <td>582531.0</td>\n      <td>585613.0</td>\n      <td>584215.0</td>\n      <td>578931.0</td>\n      <td>577601.0</td>\n      <td>578759.0</td>\n    </tr>\n    <tr>\n      <th>59</th>\n      <td>NaN</td>\n      <td>NaN</td>\n      <td>NaN</td>\n      <td>NaN</td>\n      <td>NaN</td>\n      <td>NaN</td>\n      <td>NaN</td>\n      <td>NaN</td>\n      <td>NaN</td>\n      <td>NaN</td>\n      <td>NaN</td>\n      <td>NaN</td>\n      <td>NaN</td>\n    </tr>\n    <tr>\n      <th>60</th>\n      <td>Puerto Rico</td>\n      <td>3725789</td>\n      <td>3726157</td>\n      <td>3721525</td>\n      <td>3678732.0</td>\n      <td>3634488.0</td>\n      <td>3593077.0</td>\n      <td>3534874.0</td>\n      <td>3473232.0</td>\n      <td>3406672.0</td>\n      <td>3325286.0</td>\n      <td>3193354.0</td>\n      <td>3193694.0</td>\n    </tr>\n  </tbody>\n</table>\n</div>"
     },
     "metadata": {},
     "execution_count": 12
    }
   ],
   "source": [
    "df = df[:-5]\n",
    "\n",
    "df.tail(10)"
   ]
  },
  {
   "cell_type": "markdown",
   "metadata": {},
   "source": [
    "#### Next we can see that there are some null rows in our dataset. We can discard these as well"
   ]
  },
  {
   "cell_type": "code",
   "execution_count": 13,
   "metadata": {},
   "outputs": [
    {
     "output_type": "execute_result",
     "data": {
      "text/plain": [
       "   table with row headers in column A and column headers in rows 3 through 4. (leading dots indicate sub-parts)  \\\n",
       "55                                        .Washington                                                             \n",
       "56                                     .West Virginia                                                             \n",
       "57                                         .Wisconsin                                                             \n",
       "58                                           .Wyoming                                                             \n",
       "60                                        Puerto Rico                                                             \n",
       "\n",
       "   Unnamed: 1 Unnamed: 2 Unnamed: 3  Unnamed: 4  Unnamed: 5  Unnamed: 6  \\\n",
       "55    6724540    6724540    6742830   6826627.0   6897058.0   6963985.0   \n",
       "56    1852994    1853018    1854239   1856301.0   1856872.0   1853914.0   \n",
       "57    5686986    5687285    5690475   5705288.0   5719960.0   5736754.0   \n",
       "58     563626     563775     564487    567299.0    576305.0    582122.0   \n",
       "60    3725789    3726157    3721525   3678732.0   3634488.0   3593077.0   \n",
       "\n",
       "    Unnamed: 7  Unnamed: 8  Unnamed: 9  Unnamed: 10  Unnamed: 11  Unnamed: 12  \n",
       "55   7054655.0   7163657.0   7294771.0    7423362.0    7523869.0    7614893.0  \n",
       "56   1849489.0   1842050.0   1831023.0    1817004.0    1804291.0    1792147.0  \n",
       "57   5751525.0   5760940.0   5772628.0    5790186.0    5807406.0    5822434.0  \n",
       "58    582531.0    585613.0    584215.0     578931.0     577601.0     578759.0  \n",
       "60   3534874.0   3473232.0   3406672.0    3325286.0    3193354.0    3193694.0  "
      ],
      "text/html": "<div>\n<style scoped>\n    .dataframe tbody tr th:only-of-type {\n        vertical-align: middle;\n    }\n\n    .dataframe tbody tr th {\n        vertical-align: top;\n    }\n\n    .dataframe thead th {\n        text-align: right;\n    }\n</style>\n<table border=\"1\" class=\"dataframe\">\n  <thead>\n    <tr style=\"text-align: right;\">\n      <th></th>\n      <th>table with row headers in column A and column headers in rows 3 through 4. (leading dots indicate sub-parts)</th>\n      <th>Unnamed: 1</th>\n      <th>Unnamed: 2</th>\n      <th>Unnamed: 3</th>\n      <th>Unnamed: 4</th>\n      <th>Unnamed: 5</th>\n      <th>Unnamed: 6</th>\n      <th>Unnamed: 7</th>\n      <th>Unnamed: 8</th>\n      <th>Unnamed: 9</th>\n      <th>Unnamed: 10</th>\n      <th>Unnamed: 11</th>\n      <th>Unnamed: 12</th>\n    </tr>\n  </thead>\n  <tbody>\n    <tr>\n      <th>55</th>\n      <td>.Washington</td>\n      <td>6724540</td>\n      <td>6724540</td>\n      <td>6742830</td>\n      <td>6826627.0</td>\n      <td>6897058.0</td>\n      <td>6963985.0</td>\n      <td>7054655.0</td>\n      <td>7163657.0</td>\n      <td>7294771.0</td>\n      <td>7423362.0</td>\n      <td>7523869.0</td>\n      <td>7614893.0</td>\n    </tr>\n    <tr>\n      <th>56</th>\n      <td>.West Virginia</td>\n      <td>1852994</td>\n      <td>1853018</td>\n      <td>1854239</td>\n      <td>1856301.0</td>\n      <td>1856872.0</td>\n      <td>1853914.0</td>\n      <td>1849489.0</td>\n      <td>1842050.0</td>\n      <td>1831023.0</td>\n      <td>1817004.0</td>\n      <td>1804291.0</td>\n      <td>1792147.0</td>\n    </tr>\n    <tr>\n      <th>57</th>\n      <td>.Wisconsin</td>\n      <td>5686986</td>\n      <td>5687285</td>\n      <td>5690475</td>\n      <td>5705288.0</td>\n      <td>5719960.0</td>\n      <td>5736754.0</td>\n      <td>5751525.0</td>\n      <td>5760940.0</td>\n      <td>5772628.0</td>\n      <td>5790186.0</td>\n      <td>5807406.0</td>\n      <td>5822434.0</td>\n    </tr>\n    <tr>\n      <th>58</th>\n      <td>.Wyoming</td>\n      <td>563626</td>\n      <td>563775</td>\n      <td>564487</td>\n      <td>567299.0</td>\n      <td>576305.0</td>\n      <td>582122.0</td>\n      <td>582531.0</td>\n      <td>585613.0</td>\n      <td>584215.0</td>\n      <td>578931.0</td>\n      <td>577601.0</td>\n      <td>578759.0</td>\n    </tr>\n    <tr>\n      <th>60</th>\n      <td>Puerto Rico</td>\n      <td>3725789</td>\n      <td>3726157</td>\n      <td>3721525</td>\n      <td>3678732.0</td>\n      <td>3634488.0</td>\n      <td>3593077.0</td>\n      <td>3534874.0</td>\n      <td>3473232.0</td>\n      <td>3406672.0</td>\n      <td>3325286.0</td>\n      <td>3193354.0</td>\n      <td>3193694.0</td>\n    </tr>\n  </tbody>\n</table>\n</div>"
     },
     "metadata": {},
     "execution_count": 13
    }
   ],
   "source": [
    "df.dropna(inplace = True)\n",
    "df.tail()"
   ]
  },
  {
   "cell_type": "markdown",
   "metadata": {},
   "source": [
    "#### To make this dataset compatible with our other state based data we need to remove the non alpha characters from out state names"
   ]
  },
  {
   "cell_type": "code",
   "execution_count": 14,
   "metadata": {},
   "outputs": [
    {
     "output_type": "execute_result",
     "data": {
      "text/plain": [
       "   table with row headers in column A and column headers in rows 3 through 4. (leading dots indicate sub-parts)  \\\n",
       "10                                            Arizona                                                             \n",
       "11                                           Arkansas                                                             \n",
       "12                                         California                                                             \n",
       "13                                           Colorado                                                             \n",
       "14                                        Connecticut                                                             \n",
       "\n",
       "    Unnamed: 1  Unnamed: 2  Unnamed: 3  Unnamed: 4  Unnamed: 5  Unnamed: 6  \\\n",
       "10     6392017     6392288     6407172   6472643.0   6554978.0   6632764.0   \n",
       "11     2915918     2916031     2921964   2940667.0   2952164.0   2959400.0   \n",
       "12    37253956    37254519    37319502  37638369.0  37948800.0  38260787.0   \n",
       "13     5029196     5029319     5047349   5121108.0   5192647.0   5269035.0   \n",
       "14     3574097     3574147     3579114   3588283.0   3594547.0   3594841.0   \n",
       "\n",
       "    Unnamed: 7  Unnamed: 8  Unnamed: 9  Unnamed: 10  Unnamed: 11  Unnamed: 12  \n",
       "10   6730413.0   6829676.0   6941072.0    7044008.0    7158024.0    7278717.0  \n",
       "11   2967392.0   2978048.0   2989918.0    3001345.0    3009733.0    3017804.0  \n",
       "12  38596972.0  38918045.0  39167117.0   39358497.0   39461588.0   39512223.0  \n",
       "13   5350101.0   5450623.0   5539215.0    5611885.0    5691287.0    5758736.0  \n",
       "14   3594524.0   3587122.0   3578141.0    3573297.0    3571520.0    3565287.0  "
      ],
      "text/html": "<div>\n<style scoped>\n    .dataframe tbody tr th:only-of-type {\n        vertical-align: middle;\n    }\n\n    .dataframe tbody tr th {\n        vertical-align: top;\n    }\n\n    .dataframe thead th {\n        text-align: right;\n    }\n</style>\n<table border=\"1\" class=\"dataframe\">\n  <thead>\n    <tr style=\"text-align: right;\">\n      <th></th>\n      <th>table with row headers in column A and column headers in rows 3 through 4. (leading dots indicate sub-parts)</th>\n      <th>Unnamed: 1</th>\n      <th>Unnamed: 2</th>\n      <th>Unnamed: 3</th>\n      <th>Unnamed: 4</th>\n      <th>Unnamed: 5</th>\n      <th>Unnamed: 6</th>\n      <th>Unnamed: 7</th>\n      <th>Unnamed: 8</th>\n      <th>Unnamed: 9</th>\n      <th>Unnamed: 10</th>\n      <th>Unnamed: 11</th>\n      <th>Unnamed: 12</th>\n    </tr>\n  </thead>\n  <tbody>\n    <tr>\n      <th>10</th>\n      <td>Arizona</td>\n      <td>6392017</td>\n      <td>6392288</td>\n      <td>6407172</td>\n      <td>6472643.0</td>\n      <td>6554978.0</td>\n      <td>6632764.0</td>\n      <td>6730413.0</td>\n      <td>6829676.0</td>\n      <td>6941072.0</td>\n      <td>7044008.0</td>\n      <td>7158024.0</td>\n      <td>7278717.0</td>\n    </tr>\n    <tr>\n      <th>11</th>\n      <td>Arkansas</td>\n      <td>2915918</td>\n      <td>2916031</td>\n      <td>2921964</td>\n      <td>2940667.0</td>\n      <td>2952164.0</td>\n      <td>2959400.0</td>\n      <td>2967392.0</td>\n      <td>2978048.0</td>\n      <td>2989918.0</td>\n      <td>3001345.0</td>\n      <td>3009733.0</td>\n      <td>3017804.0</td>\n    </tr>\n    <tr>\n      <th>12</th>\n      <td>California</td>\n      <td>37253956</td>\n      <td>37254519</td>\n      <td>37319502</td>\n      <td>37638369.0</td>\n      <td>37948800.0</td>\n      <td>38260787.0</td>\n      <td>38596972.0</td>\n      <td>38918045.0</td>\n      <td>39167117.0</td>\n      <td>39358497.0</td>\n      <td>39461588.0</td>\n      <td>39512223.0</td>\n    </tr>\n    <tr>\n      <th>13</th>\n      <td>Colorado</td>\n      <td>5029196</td>\n      <td>5029319</td>\n      <td>5047349</td>\n      <td>5121108.0</td>\n      <td>5192647.0</td>\n      <td>5269035.0</td>\n      <td>5350101.0</td>\n      <td>5450623.0</td>\n      <td>5539215.0</td>\n      <td>5611885.0</td>\n      <td>5691287.0</td>\n      <td>5758736.0</td>\n    </tr>\n    <tr>\n      <th>14</th>\n      <td>Connecticut</td>\n      <td>3574097</td>\n      <td>3574147</td>\n      <td>3579114</td>\n      <td>3588283.0</td>\n      <td>3594547.0</td>\n      <td>3594841.0</td>\n      <td>3594524.0</td>\n      <td>3587122.0</td>\n      <td>3578141.0</td>\n      <td>3573297.0</td>\n      <td>3571520.0</td>\n      <td>3565287.0</td>\n    </tr>\n  </tbody>\n</table>\n</div>"
     },
     "metadata": {},
     "execution_count": 14
    }
   ],
   "source": [
    "df = df.replace('[^a-zA-Z0-9 ]', '', regex=True)\n",
    "df.head()"
   ]
  },
  {
   "cell_type": "markdown",
   "metadata": {},
   "source": [
    "#### Now we just need to apply our headers "
   ]
  },
  {
   "cell_type": "code",
   "execution_count": 15,
   "metadata": {},
   "outputs": [
    {
     "output_type": "execute_result",
     "data": {
      "text/plain": [
       "2        States    Census  Estimates Base      2010      2011.0      2012.0  \\\n",
       "10      Arizona   6392017         6392288   6407172   6472643.0   6554978.0   \n",
       "11     Arkansas   2915918         2916031   2921964   2940667.0   2952164.0   \n",
       "12   California  37253956        37254519  37319502  37638369.0  37948800.0   \n",
       "13     Colorado   5029196         5029319   5047349   5121108.0   5192647.0   \n",
       "14  Connecticut   3574097         3574147   3579114   3588283.0   3594547.0   \n",
       "\n",
       "2       2013.0      2014.0      2015.0      2016.0      2017.0      2018.0  \\\n",
       "10   6632764.0   6730413.0   6829676.0   6941072.0   7044008.0   7158024.0   \n",
       "11   2959400.0   2967392.0   2978048.0   2989918.0   3001345.0   3009733.0   \n",
       "12  38260787.0  38596972.0  38918045.0  39167117.0  39358497.0  39461588.0   \n",
       "13   5269035.0   5350101.0   5450623.0   5539215.0   5611885.0   5691287.0   \n",
       "14   3594841.0   3594524.0   3587122.0   3578141.0   3573297.0   3571520.0   \n",
       "\n",
       "2       2019.0  \n",
       "10   7278717.0  \n",
       "11   3017804.0  \n",
       "12  39512223.0  \n",
       "13   5758736.0  \n",
       "14   3565287.0  "
      ],
      "text/html": "<div>\n<style scoped>\n    .dataframe tbody tr th:only-of-type {\n        vertical-align: middle;\n    }\n\n    .dataframe tbody tr th {\n        vertical-align: top;\n    }\n\n    .dataframe thead th {\n        text-align: right;\n    }\n</style>\n<table border=\"1\" class=\"dataframe\">\n  <thead>\n    <tr style=\"text-align: right;\">\n      <th>2</th>\n      <th>States</th>\n      <th>Census</th>\n      <th>Estimates Base</th>\n      <th>2010</th>\n      <th>2011.0</th>\n      <th>2012.0</th>\n      <th>2013.0</th>\n      <th>2014.0</th>\n      <th>2015.0</th>\n      <th>2016.0</th>\n      <th>2017.0</th>\n      <th>2018.0</th>\n      <th>2019.0</th>\n    </tr>\n  </thead>\n  <tbody>\n    <tr>\n      <th>10</th>\n      <td>Arizona</td>\n      <td>6392017</td>\n      <td>6392288</td>\n      <td>6407172</td>\n      <td>6472643.0</td>\n      <td>6554978.0</td>\n      <td>6632764.0</td>\n      <td>6730413.0</td>\n      <td>6829676.0</td>\n      <td>6941072.0</td>\n      <td>7044008.0</td>\n      <td>7158024.0</td>\n      <td>7278717.0</td>\n    </tr>\n    <tr>\n      <th>11</th>\n      <td>Arkansas</td>\n      <td>2915918</td>\n      <td>2916031</td>\n      <td>2921964</td>\n      <td>2940667.0</td>\n      <td>2952164.0</td>\n      <td>2959400.0</td>\n      <td>2967392.0</td>\n      <td>2978048.0</td>\n      <td>2989918.0</td>\n      <td>3001345.0</td>\n      <td>3009733.0</td>\n      <td>3017804.0</td>\n    </tr>\n    <tr>\n      <th>12</th>\n      <td>California</td>\n      <td>37253956</td>\n      <td>37254519</td>\n      <td>37319502</td>\n      <td>37638369.0</td>\n      <td>37948800.0</td>\n      <td>38260787.0</td>\n      <td>38596972.0</td>\n      <td>38918045.0</td>\n      <td>39167117.0</td>\n      <td>39358497.0</td>\n      <td>39461588.0</td>\n      <td>39512223.0</td>\n    </tr>\n    <tr>\n      <th>13</th>\n      <td>Colorado</td>\n      <td>5029196</td>\n      <td>5029319</td>\n      <td>5047349</td>\n      <td>5121108.0</td>\n      <td>5192647.0</td>\n      <td>5269035.0</td>\n      <td>5350101.0</td>\n      <td>5450623.0</td>\n      <td>5539215.0</td>\n      <td>5611885.0</td>\n      <td>5691287.0</td>\n      <td>5758736.0</td>\n    </tr>\n    <tr>\n      <th>14</th>\n      <td>Connecticut</td>\n      <td>3574097</td>\n      <td>3574147</td>\n      <td>3579114</td>\n      <td>3588283.0</td>\n      <td>3594547.0</td>\n      <td>3594841.0</td>\n      <td>3594524.0</td>\n      <td>3587122.0</td>\n      <td>3578141.0</td>\n      <td>3573297.0</td>\n      <td>3571520.0</td>\n      <td>3565287.0</td>\n    </tr>\n  </tbody>\n</table>\n</div>"
     },
     "metadata": {},
     "execution_count": 15
    }
   ],
   "source": [
    "import numpy as np\n",
    "df.columns = new_header\n",
    "df.rename(columns = {np.NaN : 'States'}, inplace= True)\n",
    "df.head()"
   ]
  },
  {
   "cell_type": "markdown",
   "metadata": {},
   "source": [
    "#### Now its time to plot the data"
   ]
  },
  {
   "cell_type": "code",
   "execution_count": 16,
   "metadata": {},
   "outputs": [
    {
     "output_type": "error",
     "ename": "ModuleNotFoundError",
     "evalue": "No module named 'plotly'",
     "traceback": [
      "\u001b[1;31m---------------------------------------------------------------------------\u001b[0m",
      "\u001b[1;31mModuleNotFoundError\u001b[0m                       Traceback (most recent call last)",
      "\u001b[1;32m<ipython-input-16-c253bace1f99>\u001b[0m in \u001b[0;36m<module>\u001b[1;34m()\u001b[0m\n\u001b[1;32m----> 1\u001b[1;33m \u001b[1;32mimport\u001b[0m \u001b[0mplotly\u001b[0m\u001b[1;33m.\u001b[0m\u001b[0mexpress\u001b[0m \u001b[1;32mas\u001b[0m \u001b[0mpx\u001b[0m\u001b[1;33m\u001b[0m\u001b[0m\n\u001b[0m\u001b[0;32m      2\u001b[0m \u001b[0mdata\u001b[0m \u001b[1;33m=\u001b[0m \u001b[0mpx\u001b[0m\u001b[1;33m.\u001b[0m\u001b[0mdata\u001b[0m\u001b[1;33m.\u001b[0m\u001b[0mgapminder\u001b[0m\u001b[1;33m(\u001b[0m\u001b[1;33m)\u001b[0m\u001b[1;33m\u001b[0m\u001b[0m\n\u001b[0;32m      3\u001b[0m \u001b[1;33m\u001b[0m\u001b[0m\n\u001b[0;32m      4\u001b[0m fig = px.bar(df, x='States', y='Census',\n\u001b[0;32m      5\u001b[0m              \u001b[0mhover_data\u001b[0m\u001b[1;33m=\u001b[0m\u001b[1;33m[\u001b[0m\u001b[1;34m'Census'\u001b[0m\u001b[1;33m]\u001b[0m\u001b[1;33m,\u001b[0m \u001b[0mcolor\u001b[0m\u001b[1;33m=\u001b[0m\u001b[1;34m'Census'\u001b[0m\u001b[1;33m,\u001b[0m\u001b[1;33m\u001b[0m\u001b[0m\n",
      "\u001b[1;31mModuleNotFoundError\u001b[0m: No module named 'plotly'"
     ]
    }
   ],
   "source": [
    "import plotly.express as px\n",
    "data = px.data.gapminder()\n",
    "\n",
    "fig = px.bar(df, x='States', y='Census',\n",
    "             hover_data=['Census'], color='Census',\n",
    "             labels={'pop':'population'}, height=400)\n",
    "fig.show()"
   ]
  },
  {
   "cell_type": "markdown",
   "metadata": {},
   "source": [
    "## Tying it all together"
   ]
  },
  {
   "cell_type": "code",
   "execution_count": 21,
   "metadata": {},
   "outputs": [
    {
     "data": {
      "application/vnd.plotly.v1+json": {
       "config": {
        "plotlyServerURL": "https://plot.ly"
       },
       "data": [
        {
         "alignmentgroup": "True",
         "customdata": [
          [
           6392017
          ],
          [
           2915918
          ],
          [
           37253956
          ],
          [
           5029196
          ],
          [
           3574097
          ],
          [
           897934
          ],
          [
           601723
          ],
          [
           18801310
          ],
          [
           9687653
          ],
          [
           1360301
          ],
          [
           1567582
          ],
          [
           12830632
          ],
          [
           6483802
          ],
          [
           3046355
          ],
          [
           2853118
          ],
          [
           4339367
          ],
          [
           4533372
          ],
          [
           1328361
          ],
          [
           5773552
          ],
          [
           6547629
          ],
          [
           9883640
          ],
          [
           5303925
          ],
          [
           2967297
          ],
          [
           5988927
          ],
          [
           989415
          ],
          [
           1826341
          ],
          [
           2700551
          ],
          [
           1316470
          ],
          [
           8791894
          ],
          [
           2059179
          ],
          [
           19378102
          ],
          [
           9535483
          ],
          [
           672591
          ],
          [
           11536504
          ],
          [
           3751351
          ],
          [
           3831074
          ],
          [
           12702379
          ],
          [
           1052567
          ],
          [
           4625364
          ],
          [
           814180
          ],
          [
           6346105
          ],
          [
           25145561
          ],
          [
           2763885
          ],
          [
           625741
          ],
          [
           8001024
          ],
          [
           6724540
          ],
          [
           1852994
          ],
          [
           5686986
          ],
          [
           563626
          ],
          [
           3725789
          ]
         ],
         "hovertemplate": "States=%{x}<br>Census=%{marker.color}<extra></extra>",
         "legendgroup": "",
         "marker": {
          "color": [
           6392017,
           2915918,
           37253956,
           5029196,
           3574097,
           897934,
           601723,
           18801310,
           9687653,
           1360301,
           1567582,
           12830632,
           6483802,
           3046355,
           2853118,
           4339367,
           4533372,
           1328361,
           5773552,
           6547629,
           9883640,
           5303925,
           2967297,
           5988927,
           989415,
           1826341,
           2700551,
           1316470,
           8791894,
           2059179,
           19378102,
           9535483,
           672591,
           11536504,
           3751351,
           3831074,
           12702379,
           1052567,
           4625364,
           814180,
           6346105,
           25145561,
           2763885,
           625741,
           8001024,
           6724540,
           1852994,
           5686986,
           563626,
           3725789
          ],
          "coloraxis": "coloraxis"
         },
         "name": "",
         "offsetgroup": "",
         "orientation": "v",
         "showlegend": false,
         "textposition": "auto",
         "type": "bar",
         "x": [
          "Arizona",
          "Arkansas",
          "California",
          "Colorado",
          "Connecticut",
          "Delaware",
          "District of Columbia",
          "Florida",
          "Georgia",
          "Hawaii",
          "Idaho",
          "Illinois",
          "Indiana",
          "Iowa",
          "Kansas",
          "Kentucky",
          "Louisiana",
          "Maine",
          "Maryland",
          "Massachusetts",
          "Michigan",
          "Minnesota",
          "Mississippi",
          "Missouri",
          "Montana",
          "Nebraska",
          "Nevada",
          "New Hampshire",
          "New Jersey",
          "New Mexico",
          "New York",
          "North Carolina",
          "North Dakota",
          "Ohio",
          "Oklahoma",
          "Oregon",
          "Pennsylvania",
          "Rhode Island",
          "South Carolina",
          "South Dakota",
          "Tennessee",
          "Texas",
          "Utah",
          "Vermont",
          "Virginia",
          "Washington",
          "West Virginia",
          "Wisconsin",
          "Wyoming",
          "Puerto Rico"
         ],
         "xaxis": "x",
         "y": [
          6392017,
          2915918,
          37253956,
          5029196,
          3574097,
          897934,
          601723,
          18801310,
          9687653,
          1360301,
          1567582,
          12830632,
          6483802,
          3046355,
          2853118,
          4339367,
          4533372,
          1328361,
          5773552,
          6547629,
          9883640,
          5303925,
          2967297,
          5988927,
          989415,
          1826341,
          2700551,
          1316470,
          8791894,
          2059179,
          19378102,
          9535483,
          672591,
          11536504,
          3751351,
          3831074,
          12702379,
          1052567,
          4625364,
          814180,
          6346105,
          25145561,
          2763885,
          625741,
          8001024,
          6724540,
          1852994,
          5686986,
          563626,
          3725789
         ],
         "yaxis": "y"
        }
       ],
       "layout": {
        "autosize": true,
        "barmode": "relative",
        "coloraxis": {
         "colorbar": {
          "title": {
           "text": "Census"
          }
         },
         "colorscale": [
          [
           0,
           "#0d0887"
          ],
          [
           0.1111111111111111,
           "#46039f"
          ],
          [
           0.2222222222222222,
           "#7201a8"
          ],
          [
           0.3333333333333333,
           "#9c179e"
          ],
          [
           0.4444444444444444,
           "#bd3786"
          ],
          [
           0.5555555555555556,
           "#d8576b"
          ],
          [
           0.6666666666666666,
           "#ed7953"
          ],
          [
           0.7777777777777778,
           "#fb9f3a"
          ],
          [
           0.8888888888888888,
           "#fdca26"
          ],
          [
           1,
           "#f0f921"
          ]
         ]
        },
        "legend": {
         "tracegroupgap": 0
        },
        "margin": {
         "t": 60
        },
        "template": {
         "data": {
          "bar": [
           {
            "error_x": {
             "color": "#2a3f5f"
            },
            "error_y": {
             "color": "#2a3f5f"
            },
            "marker": {
             "line": {
              "color": "#E5ECF6",
              "width": 0.5
             }
            },
            "type": "bar"
           }
          ],
          "barpolar": [
           {
            "marker": {
             "line": {
              "color": "#E5ECF6",
              "width": 0.5
             }
            },
            "type": "barpolar"
           }
          ],
          "carpet": [
           {
            "aaxis": {
             "endlinecolor": "#2a3f5f",
             "gridcolor": "white",
             "linecolor": "white",
             "minorgridcolor": "white",
             "startlinecolor": "#2a3f5f"
            },
            "baxis": {
             "endlinecolor": "#2a3f5f",
             "gridcolor": "white",
             "linecolor": "white",
             "minorgridcolor": "white",
             "startlinecolor": "#2a3f5f"
            },
            "type": "carpet"
           }
          ],
          "choropleth": [
           {
            "colorbar": {
             "outlinewidth": 0,
             "ticks": ""
            },
            "type": "choropleth"
           }
          ],
          "contour": [
           {
            "colorbar": {
             "outlinewidth": 0,
             "ticks": ""
            },
            "colorscale": [
             [
              0,
              "#0d0887"
             ],
             [
              0.1111111111111111,
              "#46039f"
             ],
             [
              0.2222222222222222,
              "#7201a8"
             ],
             [
              0.3333333333333333,
              "#9c179e"
             ],
             [
              0.4444444444444444,
              "#bd3786"
             ],
             [
              0.5555555555555556,
              "#d8576b"
             ],
             [
              0.6666666666666666,
              "#ed7953"
             ],
             [
              0.7777777777777778,
              "#fb9f3a"
             ],
             [
              0.8888888888888888,
              "#fdca26"
             ],
             [
              1,
              "#f0f921"
             ]
            ],
            "type": "contour"
           }
          ],
          "contourcarpet": [
           {
            "colorbar": {
             "outlinewidth": 0,
             "ticks": ""
            },
            "type": "contourcarpet"
           }
          ],
          "heatmap": [
           {
            "colorbar": {
             "outlinewidth": 0,
             "ticks": ""
            },
            "colorscale": [
             [
              0,
              "#0d0887"
             ],
             [
              0.1111111111111111,
              "#46039f"
             ],
             [
              0.2222222222222222,
              "#7201a8"
             ],
             [
              0.3333333333333333,
              "#9c179e"
             ],
             [
              0.4444444444444444,
              "#bd3786"
             ],
             [
              0.5555555555555556,
              "#d8576b"
             ],
             [
              0.6666666666666666,
              "#ed7953"
             ],
             [
              0.7777777777777778,
              "#fb9f3a"
             ],
             [
              0.8888888888888888,
              "#fdca26"
             ],
             [
              1,
              "#f0f921"
             ]
            ],
            "type": "heatmap"
           }
          ],
          "heatmapgl": [
           {
            "colorbar": {
             "outlinewidth": 0,
             "ticks": ""
            },
            "colorscale": [
             [
              0,
              "#0d0887"
             ],
             [
              0.1111111111111111,
              "#46039f"
             ],
             [
              0.2222222222222222,
              "#7201a8"
             ],
             [
              0.3333333333333333,
              "#9c179e"
             ],
             [
              0.4444444444444444,
              "#bd3786"
             ],
             [
              0.5555555555555556,
              "#d8576b"
             ],
             [
              0.6666666666666666,
              "#ed7953"
             ],
             [
              0.7777777777777778,
              "#fb9f3a"
             ],
             [
              0.8888888888888888,
              "#fdca26"
             ],
             [
              1,
              "#f0f921"
             ]
            ],
            "type": "heatmapgl"
           }
          ],
          "histogram": [
           {
            "marker": {
             "colorbar": {
              "outlinewidth": 0,
              "ticks": ""
             }
            },
            "type": "histogram"
           }
          ],
          "histogram2d": [
           {
            "colorbar": {
             "outlinewidth": 0,
             "ticks": ""
            },
            "colorscale": [
             [
              0,
              "#0d0887"
             ],
             [
              0.1111111111111111,
              "#46039f"
             ],
             [
              0.2222222222222222,
              "#7201a8"
             ],
             [
              0.3333333333333333,
              "#9c179e"
             ],
             [
              0.4444444444444444,
              "#bd3786"
             ],
             [
              0.5555555555555556,
              "#d8576b"
             ],
             [
              0.6666666666666666,
              "#ed7953"
             ],
             [
              0.7777777777777778,
              "#fb9f3a"
             ],
             [
              0.8888888888888888,
              "#fdca26"
             ],
             [
              1,
              "#f0f921"
             ]
            ],
            "type": "histogram2d"
           }
          ],
          "histogram2dcontour": [
           {
            "colorbar": {
             "outlinewidth": 0,
             "ticks": ""
            },
            "colorscale": [
             [
              0,
              "#0d0887"
             ],
             [
              0.1111111111111111,
              "#46039f"
             ],
             [
              0.2222222222222222,
              "#7201a8"
             ],
             [
              0.3333333333333333,
              "#9c179e"
             ],
             [
              0.4444444444444444,
              "#bd3786"
             ],
             [
              0.5555555555555556,
              "#d8576b"
             ],
             [
              0.6666666666666666,
              "#ed7953"
             ],
             [
              0.7777777777777778,
              "#fb9f3a"
             ],
             [
              0.8888888888888888,
              "#fdca26"
             ],
             [
              1,
              "#f0f921"
             ]
            ],
            "type": "histogram2dcontour"
           }
          ],
          "mesh3d": [
           {
            "colorbar": {
             "outlinewidth": 0,
             "ticks": ""
            },
            "type": "mesh3d"
           }
          ],
          "parcoords": [
           {
            "line": {
             "colorbar": {
              "outlinewidth": 0,
              "ticks": ""
             }
            },
            "type": "parcoords"
           }
          ],
          "pie": [
           {
            "automargin": true,
            "type": "pie"
           }
          ],
          "scatter": [
           {
            "marker": {
             "colorbar": {
              "outlinewidth": 0,
              "ticks": ""
             }
            },
            "type": "scatter"
           }
          ],
          "scatter3d": [
           {
            "line": {
             "colorbar": {
              "outlinewidth": 0,
              "ticks": ""
             }
            },
            "marker": {
             "colorbar": {
              "outlinewidth": 0,
              "ticks": ""
             }
            },
            "type": "scatter3d"
           }
          ],
          "scattercarpet": [
           {
            "marker": {
             "colorbar": {
              "outlinewidth": 0,
              "ticks": ""
             }
            },
            "type": "scattercarpet"
           }
          ],
          "scattergeo": [
           {
            "marker": {
             "colorbar": {
              "outlinewidth": 0,
              "ticks": ""
             }
            },
            "type": "scattergeo"
           }
          ],
          "scattergl": [
           {
            "marker": {
             "colorbar": {
              "outlinewidth": 0,
              "ticks": ""
             }
            },
            "type": "scattergl"
           }
          ],
          "scattermapbox": [
           {
            "marker": {
             "colorbar": {
              "outlinewidth": 0,
              "ticks": ""
             }
            },
            "type": "scattermapbox"
           }
          ],
          "scatterpolar": [
           {
            "marker": {
             "colorbar": {
              "outlinewidth": 0,
              "ticks": ""
             }
            },
            "type": "scatterpolar"
           }
          ],
          "scatterpolargl": [
           {
            "marker": {
             "colorbar": {
              "outlinewidth": 0,
              "ticks": ""
             }
            },
            "type": "scatterpolargl"
           }
          ],
          "scatterternary": [
           {
            "marker": {
             "colorbar": {
              "outlinewidth": 0,
              "ticks": ""
             }
            },
            "type": "scatterternary"
           }
          ],
          "surface": [
           {
            "colorbar": {
             "outlinewidth": 0,
             "ticks": ""
            },
            "colorscale": [
             [
              0,
              "#0d0887"
             ],
             [
              0.1111111111111111,
              "#46039f"
             ],
             [
              0.2222222222222222,
              "#7201a8"
             ],
             [
              0.3333333333333333,
              "#9c179e"
             ],
             [
              0.4444444444444444,
              "#bd3786"
             ],
             [
              0.5555555555555556,
              "#d8576b"
             ],
             [
              0.6666666666666666,
              "#ed7953"
             ],
             [
              0.7777777777777778,
              "#fb9f3a"
             ],
             [
              0.8888888888888888,
              "#fdca26"
             ],
             [
              1,
              "#f0f921"
             ]
            ],
            "type": "surface"
           }
          ],
          "table": [
           {
            "cells": {
             "fill": {
              "color": "#EBF0F8"
             },
             "line": {
              "color": "white"
             }
            },
            "header": {
             "fill": {
              "color": "#C8D4E3"
             },
             "line": {
              "color": "white"
             }
            },
            "type": "table"
           }
          ]
         },
         "layout": {
          "annotationdefaults": {
           "arrowcolor": "#2a3f5f",
           "arrowhead": 0,
           "arrowwidth": 1
          },
          "coloraxis": {
           "colorbar": {
            "outlinewidth": 0,
            "ticks": ""
           }
          },
          "colorscale": {
           "diverging": [
            [
             0,
             "#8e0152"
            ],
            [
             0.1,
             "#c51b7d"
            ],
            [
             0.2,
             "#de77ae"
            ],
            [
             0.3,
             "#f1b6da"
            ],
            [
             0.4,
             "#fde0ef"
            ],
            [
             0.5,
             "#f7f7f7"
            ],
            [
             0.6,
             "#e6f5d0"
            ],
            [
             0.7,
             "#b8e186"
            ],
            [
             0.8,
             "#7fbc41"
            ],
            [
             0.9,
             "#4d9221"
            ],
            [
             1,
             "#276419"
            ]
           ],
           "sequential": [
            [
             0,
             "#0d0887"
            ],
            [
             0.1111111111111111,
             "#46039f"
            ],
            [
             0.2222222222222222,
             "#7201a8"
            ],
            [
             0.3333333333333333,
             "#9c179e"
            ],
            [
             0.4444444444444444,
             "#bd3786"
            ],
            [
             0.5555555555555556,
             "#d8576b"
            ],
            [
             0.6666666666666666,
             "#ed7953"
            ],
            [
             0.7777777777777778,
             "#fb9f3a"
            ],
            [
             0.8888888888888888,
             "#fdca26"
            ],
            [
             1,
             "#f0f921"
            ]
           ],
           "sequentialminus": [
            [
             0,
             "#0d0887"
            ],
            [
             0.1111111111111111,
             "#46039f"
            ],
            [
             0.2222222222222222,
             "#7201a8"
            ],
            [
             0.3333333333333333,
             "#9c179e"
            ],
            [
             0.4444444444444444,
             "#bd3786"
            ],
            [
             0.5555555555555556,
             "#d8576b"
            ],
            [
             0.6666666666666666,
             "#ed7953"
            ],
            [
             0.7777777777777778,
             "#fb9f3a"
            ],
            [
             0.8888888888888888,
             "#fdca26"
            ],
            [
             1,
             "#f0f921"
            ]
           ]
          },
          "colorway": [
           "#636efa",
           "#EF553B",
           "#00cc96",
           "#ab63fa",
           "#FFA15A",
           "#19d3f3",
           "#FF6692",
           "#B6E880",
           "#FF97FF",
           "#FECB52"
          ],
          "font": {
           "color": "#2a3f5f"
          },
          "geo": {
           "bgcolor": "white",
           "lakecolor": "white",
           "landcolor": "#E5ECF6",
           "showlakes": true,
           "showland": true,
           "subunitcolor": "white"
          },
          "hoverlabel": {
           "align": "left"
          },
          "hovermode": "closest",
          "mapbox": {
           "style": "light"
          },
          "paper_bgcolor": "white",
          "plot_bgcolor": "#E5ECF6",
          "polar": {
           "angularaxis": {
            "gridcolor": "white",
            "linecolor": "white",
            "ticks": ""
           },
           "bgcolor": "#E5ECF6",
           "radialaxis": {
            "gridcolor": "white",
            "linecolor": "white",
            "ticks": ""
           }
          },
          "scene": {
           "xaxis": {
            "backgroundcolor": "#E5ECF6",
            "gridcolor": "white",
            "gridwidth": 2,
            "linecolor": "white",
            "showbackground": true,
            "ticks": "",
            "zerolinecolor": "white"
           },
           "yaxis": {
            "backgroundcolor": "#E5ECF6",
            "gridcolor": "white",
            "gridwidth": 2,
            "linecolor": "white",
            "showbackground": true,
            "ticks": "",
            "zerolinecolor": "white"
           },
           "zaxis": {
            "backgroundcolor": "#E5ECF6",
            "gridcolor": "white",
            "gridwidth": 2,
            "linecolor": "white",
            "showbackground": true,
            "ticks": "",
            "zerolinecolor": "white"
           }
          },
          "shapedefaults": {
           "line": {
            "color": "#2a3f5f"
           }
          },
          "ternary": {
           "aaxis": {
            "gridcolor": "white",
            "linecolor": "white",
            "ticks": ""
           },
           "baxis": {
            "gridcolor": "white",
            "linecolor": "white",
            "ticks": ""
           },
           "bgcolor": "#E5ECF6",
           "caxis": {
            "gridcolor": "white",
            "linecolor": "white",
            "ticks": ""
           }
          },
          "title": {
           "x": 0.05
          },
          "xaxis": {
           "automargin": true,
           "gridcolor": "white",
           "linecolor": "white",
           "ticks": "",
           "title": {
            "standoff": 15
           },
           "zerolinecolor": "white",
           "zerolinewidth": 2
          },
          "yaxis": {
           "automargin": true,
           "gridcolor": "white",
           "linecolor": "white",
           "ticks": "",
           "title": {
            "standoff": 15
           },
           "zerolinecolor": "white",
           "zerolinewidth": 2
          }
         }
        },
        "xaxis": {
         "anchor": "y",
         "autorange": true,
         "domain": [
          0,
          1
         ],
         "range": [
          -0.5,
          49.5
         ],
         "title": {
          "text": "States"
         },
         "type": "category"
        },
        "yaxis": {
         "anchor": "x",
         "autorange": true,
         "domain": [
          0,
          1
         ],
         "range": [
          0,
          39214690.526315786
         ],
         "title": {
          "text": "Census"
         },
         "type": "linear"
        }
       }
      },
      "image/png": "[encoded data removed]",
      "text/html": [
       "<div>                            <div id=\"aab1b5d3-6ada-4eb5-bb96-54260e54f54e\" class=\"plotly-graph-div\" style=\"height:400px; width:100%;\"></div>            <script type=\"text/javascript\">                require([\"plotly\"], function(Plotly) {                    window.PLOTLYENV=window.PLOTLYENV || {};                                    if (document.getElementById(\"aab1b5d3-6ada-4eb5-bb96-54260e54f54e\")) {                    Plotly.newPlot(                        \"aab1b5d3-6ada-4eb5-bb96-54260e54f54e\",                        [{\"alignmentgroup\": \"True\", \"customdata\": [[6392017], [2915918], [37253956], [5029196], [3574097], [897934], [601723], [18801310], [9687653], [1360301], [1567582], [12830632], [6483802], [3046355], [2853118], [4339367], [4533372], [1328361], [5773552], [6547629], [9883640], [5303925], [2967297], [5988927], [989415], [1826341], [2700551], [1316470], [8791894], [2059179], [19378102], [9535483], [672591], [11536504], [3751351], [3831074], [12702379], [1052567], [4625364], [814180], [6346105], [25145561], [2763885], [625741], [8001024], [6724540], [1852994], [5686986], [563626], [3725789]], \"hovertemplate\": \"States=%{x}<br>Census=%{marker.color}<extra></extra>\", \"legendgroup\": \"\", \"marker\": {\"color\": [6392017, 2915918, 37253956, 5029196, 3574097, 897934, 601723, 18801310, 9687653, 1360301, 1567582, 12830632, 6483802, 3046355, 2853118, 4339367, 4533372, 1328361, 5773552, 6547629, 9883640, 5303925, 2967297, 5988927, 989415, 1826341, 2700551, 1316470, 8791894, 2059179, 19378102, 9535483, 672591, 11536504, 3751351, 3831074, 12702379, 1052567, 4625364, 814180, 6346105, 25145561, 2763885, 625741, 8001024, 6724540, 1852994, 5686986, 563626, 3725789], \"coloraxis\": \"coloraxis\"}, \"name\": \"\", \"offsetgroup\": \"\", \"orientation\": \"v\", \"showlegend\": false, \"textposition\": \"auto\", \"type\": \"bar\", \"x\": [\"Arizona\", \"Arkansas\", \"California\", \"Colorado\", \"Connecticut\", \"Delaware\", \"District of Columbia\", \"Florida\", \"Georgia\", \"Hawaii\", \"Idaho\", \"Illinois\", \"Indiana\", \"Iowa\", \"Kansas\", \"Kentucky\", \"Louisiana\", \"Maine\", \"Maryland\", \"Massachusetts\", \"Michigan\", \"Minnesota\", \"Mississippi\", \"Missouri\", \"Montana\", \"Nebraska\", \"Nevada\", \"New Hampshire\", \"New Jersey\", \"New Mexico\", \"New York\", \"North Carolina\", \"North Dakota\", \"Ohio\", \"Oklahoma\", \"Oregon\", \"Pennsylvania\", \"Rhode Island\", \"South Carolina\", \"South Dakota\", \"Tennessee\", \"Texas\", \"Utah\", \"Vermont\", \"Virginia\", \"Washington\", \"West Virginia\", \"Wisconsin\", \"Wyoming\", \"Puerto Rico\"], \"xaxis\": \"x\", \"y\": [6392017, 2915918, 37253956, 5029196, 3574097, 897934, 601723, 18801310, 9687653, 1360301, 1567582, 12830632, 6483802, 3046355, 2853118, 4339367, 4533372, 1328361, 5773552, 6547629, 9883640, 5303925, 2967297, 5988927, 989415, 1826341, 2700551, 1316470, 8791894, 2059179, 19378102, 9535483, 672591, 11536504, 3751351, 3831074, 12702379, 1052567, 4625364, 814180, 6346105, 25145561, 2763885, 625741, 8001024, 6724540, 1852994, 5686986, 563626, 3725789], \"yaxis\": \"y\"}],                        {\"barmode\": \"relative\", \"coloraxis\": {\"colorbar\": {\"title\": {\"text\": \"Census\"}}, \"colorscale\": [[0.0, \"#0d0887\"], [0.1111111111111111, \"#46039f\"], [0.2222222222222222, \"#7201a8\"], [0.3333333333333333, \"#9c179e\"], [0.4444444444444444, \"#bd3786\"], [0.5555555555555556, \"#d8576b\"], [0.6666666666666666, \"#ed7953\"], [0.7777777777777778, \"#fb9f3a\"], [0.8888888888888888, \"#fdca26\"], [1.0, \"#f0f921\"]]}, \"height\": 400, \"legend\": {\"tracegroupgap\": 0}, \"margin\": {\"t\": 60}, \"template\": {\"data\": {\"bar\": [{\"error_x\": {\"color\": \"#2a3f5f\"}, \"error_y\": {\"color\": \"#2a3f5f\"}, \"marker\": {\"line\": {\"color\": \"#E5ECF6\", \"width\": 0.5}}, \"type\": \"bar\"}], \"barpolar\": [{\"marker\": {\"line\": {\"color\": \"#E5ECF6\", \"width\": 0.5}}, \"type\": \"barpolar\"}], \"carpet\": [{\"aaxis\": {\"endlinecolor\": \"#2a3f5f\", \"gridcolor\": \"white\", \"linecolor\": \"white\", \"minorgridcolor\": \"white\", \"startlinecolor\": \"#2a3f5f\"}, \"baxis\": {\"endlinecolor\": \"#2a3f5f\", \"gridcolor\": \"white\", \"linecolor\": \"white\", \"minorgridcolor\": \"white\", \"startlinecolor\": \"#2a3f5f\"}, \"type\": \"carpet\"}], \"choropleth\": [{\"colorbar\": {\"outlinewidth\": 0, \"ticks\": \"\"}, \"type\": \"choropleth\"}], \"contour\": [{\"colorbar\": {\"outlinewidth\": 0, \"ticks\": \"\"}, \"colorscale\": [[0.0, \"#0d0887\"], [0.1111111111111111, \"#46039f\"], [0.2222222222222222, \"#7201a8\"], [0.3333333333333333, \"#9c179e\"], [0.4444444444444444, \"#bd3786\"], [0.5555555555555556, \"#d8576b\"], [0.6666666666666666, \"#ed7953\"], [0.7777777777777778, \"#fb9f3a\"], [0.8888888888888888, \"#fdca26\"], [1.0, \"#f0f921\"]], \"type\": \"contour\"}], \"contourcarpet\": [{\"colorbar\": {\"outlinewidth\": 0, \"ticks\": \"\"}, \"type\": \"contourcarpet\"}], \"heatmap\": [{\"colorbar\": {\"outlinewidth\": 0, \"ticks\": \"\"}, \"colorscale\": [[0.0, \"#0d0887\"], [0.1111111111111111, \"#46039f\"], [0.2222222222222222, \"#7201a8\"], [0.3333333333333333, \"#9c179e\"], [0.4444444444444444, \"#bd3786\"], [0.5555555555555556, \"#d8576b\"], [0.6666666666666666, \"#ed7953\"], [0.7777777777777778, \"#fb9f3a\"], [0.8888888888888888, \"#fdca26\"], [1.0, \"#f0f921\"]], \"type\": \"heatmap\"}], \"heatmapgl\": [{\"colorbar\": {\"outlinewidth\": 0, \"ticks\": \"\"}, \"colorscale\": [[0.0, \"#0d0887\"], [0.1111111111111111, \"#46039f\"], [0.2222222222222222, \"#7201a8\"], [0.3333333333333333, \"#9c179e\"], [0.4444444444444444, \"#bd3786\"], [0.5555555555555556, \"#d8576b\"], [0.6666666666666666, \"#ed7953\"], [0.7777777777777778, \"#fb9f3a\"], [0.8888888888888888, \"#fdca26\"], [1.0, \"#f0f921\"]], \"type\": \"heatmapgl\"}], \"histogram\": [{\"marker\": {\"colorbar\": {\"outlinewidth\": 0, \"ticks\": \"\"}}, \"type\": \"histogram\"}], \"histogram2d\": [{\"colorbar\": {\"outlinewidth\": 0, \"ticks\": \"\"}, \"colorscale\": [[0.0, \"#0d0887\"], [0.1111111111111111, \"#46039f\"], [0.2222222222222222, \"#7201a8\"], [0.3333333333333333, \"#9c179e\"], [0.4444444444444444, \"#bd3786\"], [0.5555555555555556, \"#d8576b\"], [0.6666666666666666, \"#ed7953\"], [0.7777777777777778, \"#fb9f3a\"], [0.8888888888888888, \"#fdca26\"], [1.0, \"#f0f921\"]], \"type\": \"histogram2d\"}], \"histogram2dcontour\": [{\"colorbar\": {\"outlinewidth\": 0, \"ticks\": \"\"}, \"colorscale\": [[0.0, \"#0d0887\"], [0.1111111111111111, \"#46039f\"], [0.2222222222222222, \"#7201a8\"], [0.3333333333333333, \"#9c179e\"], [0.4444444444444444, \"#bd3786\"], [0.5555555555555556, \"#d8576b\"], [0.6666666666666666, \"#ed7953\"], [0.7777777777777778, \"#fb9f3a\"], [0.8888888888888888, \"#fdca26\"], [1.0, \"#f0f921\"]], \"type\": \"histogram2dcontour\"}], \"mesh3d\": [{\"colorbar\": {\"outlinewidth\": 0, \"ticks\": \"\"}, \"type\": \"mesh3d\"}], \"parcoords\": [{\"line\": {\"colorbar\": {\"outlinewidth\": 0, \"ticks\": \"\"}}, \"type\": \"parcoords\"}], \"pie\": [{\"automargin\": true, \"type\": \"pie\"}], \"scatter\": [{\"marker\": {\"colorbar\": {\"outlinewidth\": 0, \"ticks\": \"\"}}, \"type\": \"scatter\"}], \"scatter3d\": [{\"line\": {\"colorbar\": {\"outlinewidth\": 0, \"ticks\": \"\"}}, \"marker\": {\"colorbar\": {\"outlinewidth\": 0, \"ticks\": \"\"}}, \"type\": \"scatter3d\"}], \"scattercarpet\": [{\"marker\": {\"colorbar\": {\"outlinewidth\": 0, \"ticks\": \"\"}}, \"type\": \"scattercarpet\"}], \"scattergeo\": [{\"marker\": {\"colorbar\": {\"outlinewidth\": 0, \"ticks\": \"\"}}, \"type\": \"scattergeo\"}], \"scattergl\": [{\"marker\": {\"colorbar\": {\"outlinewidth\": 0, \"ticks\": \"\"}}, \"type\": \"scattergl\"}], \"scattermapbox\": [{\"marker\": {\"colorbar\": {\"outlinewidth\": 0, \"ticks\": \"\"}}, \"type\": \"scattermapbox\"}], \"scatterpolar\": [{\"marker\": {\"colorbar\": {\"outlinewidth\": 0, \"ticks\": \"\"}}, \"type\": \"scatterpolar\"}], \"scatterpolargl\": [{\"marker\": {\"colorbar\": {\"outlinewidth\": 0, \"ticks\": \"\"}}, \"type\": \"scatterpolargl\"}], \"scatterternary\": [{\"marker\": {\"colorbar\": {\"outlinewidth\": 0, \"ticks\": \"\"}}, \"type\": \"scatterternary\"}], \"surface\": [{\"colorbar\": {\"outlinewidth\": 0, \"ticks\": \"\"}, \"colorscale\": [[0.0, \"#0d0887\"], [0.1111111111111111, \"#46039f\"], [0.2222222222222222, \"#7201a8\"], [0.3333333333333333, \"#9c179e\"], [0.4444444444444444, \"#bd3786\"], [0.5555555555555556, \"#d8576b\"], [0.6666666666666666, \"#ed7953\"], [0.7777777777777778, \"#fb9f3a\"], [0.8888888888888888, \"#fdca26\"], [1.0, \"#f0f921\"]], \"type\": \"surface\"}], \"table\": [{\"cells\": {\"fill\": {\"color\": \"#EBF0F8\"}, \"line\": {\"color\": \"white\"}}, \"header\": {\"fill\": {\"color\": \"#C8D4E3\"}, \"line\": {\"color\": \"white\"}}, \"type\": \"table\"}]}, \"layout\": {\"annotationdefaults\": {\"arrowcolor\": \"#2a3f5f\", \"arrowhead\": 0, \"arrowwidth\": 1}, \"coloraxis\": {\"colorbar\": {\"outlinewidth\": 0, \"ticks\": \"\"}}, \"colorscale\": {\"diverging\": [[0, \"#8e0152\"], [0.1, \"#c51b7d\"], [0.2, \"#de77ae\"], [0.3, \"#f1b6da\"], [0.4, \"#fde0ef\"], [0.5, \"#f7f7f7\"], [0.6, \"#e6f5d0\"], [0.7, \"#b8e186\"], [0.8, \"#7fbc41\"], [0.9, \"#4d9221\"], [1, \"#276419\"]], \"sequential\": [[0.0, \"#0d0887\"], [0.1111111111111111, \"#46039f\"], [0.2222222222222222, \"#7201a8\"], [0.3333333333333333, \"#9c179e\"], [0.4444444444444444, \"#bd3786\"], [0.5555555555555556, \"#d8576b\"], [0.6666666666666666, \"#ed7953\"], [0.7777777777777778, \"#fb9f3a\"], [0.8888888888888888, \"#fdca26\"], [1.0, \"#f0f921\"]], \"sequentialminus\": [[0.0, \"#0d0887\"], [0.1111111111111111, \"#46039f\"], [0.2222222222222222, \"#7201a8\"], [0.3333333333333333, \"#9c179e\"], [0.4444444444444444, \"#bd3786\"], [0.5555555555555556, \"#d8576b\"], [0.6666666666666666, \"#ed7953\"], [0.7777777777777778, \"#fb9f3a\"], [0.8888888888888888, \"#fdca26\"], [1.0, \"#f0f921\"]]}, \"colorway\": [\"#636efa\", \"#EF553B\", \"#00cc96\", \"#ab63fa\", \"#FFA15A\", \"#19d3f3\", \"#FF6692\", \"#B6E880\", \"#FF97FF\", \"#FECB52\"], \"font\": {\"color\": \"#2a3f5f\"}, \"geo\": {\"bgcolor\": \"white\", \"lakecolor\": \"white\", \"landcolor\": \"#E5ECF6\", \"showlakes\": true, \"showland\": true, \"subunitcolor\": \"white\"}, \"hoverlabel\": {\"align\": \"left\"}, \"hovermode\": \"closest\", \"mapbox\": {\"style\": \"light\"}, \"paper_bgcolor\": \"white\", \"plot_bgcolor\": \"#E5ECF6\", \"polar\": {\"angularaxis\": {\"gridcolor\": \"white\", \"linecolor\": \"white\", \"ticks\": \"\"}, \"bgcolor\": \"#E5ECF6\", \"radialaxis\": {\"gridcolor\": \"white\", \"linecolor\": \"white\", \"ticks\": \"\"}}, \"scene\": {\"xaxis\": {\"backgroundcolor\": \"#E5ECF6\", \"gridcolor\": \"white\", \"gridwidth\": 2, \"linecolor\": \"white\", \"showbackground\": true, \"ticks\": \"\", \"zerolinecolor\": \"white\"}, \"yaxis\": {\"backgroundcolor\": \"#E5ECF6\", \"gridcolor\": \"white\", \"gridwidth\": 2, \"linecolor\": \"white\", \"showbackground\": true, \"ticks\": \"\", \"zerolinecolor\": \"white\"}, \"zaxis\": {\"backgroundcolor\": \"#E5ECF6\", \"gridcolor\": \"white\", \"gridwidth\": 2, \"linecolor\": \"white\", \"showbackground\": true, \"ticks\": \"\", \"zerolinecolor\": \"white\"}}, \"shapedefaults\": {\"line\": {\"color\": \"#2a3f5f\"}}, \"ternary\": {\"aaxis\": {\"gridcolor\": \"white\", \"linecolor\": \"white\", \"ticks\": \"\"}, \"baxis\": {\"gridcolor\": \"white\", \"linecolor\": \"white\", \"ticks\": \"\"}, \"bgcolor\": \"#E5ECF6\", \"caxis\": {\"gridcolor\": \"white\", \"linecolor\": \"white\", \"ticks\": \"\"}}, \"title\": {\"x\": 0.05}, \"xaxis\": {\"automargin\": true, \"gridcolor\": \"white\", \"linecolor\": \"white\", \"ticks\": \"\", \"title\": {\"standoff\": 15}, \"zerolinecolor\": \"white\", \"zerolinewidth\": 2}, \"yaxis\": {\"automargin\": true, \"gridcolor\": \"white\", \"linecolor\": \"white\", \"ticks\": \"\", \"title\": {\"standoff\": 15}, \"zerolinecolor\": \"white\", \"zerolinewidth\": 2}}}, \"xaxis\": {\"anchor\": \"y\", \"domain\": [0.0, 1.0], \"title\": {\"text\": \"States\"}}, \"yaxis\": {\"anchor\": \"x\", \"domain\": [0.0, 1.0], \"title\": {\"text\": \"Census\"}}},                        {\"responsive\": true}                    ).then(function(){\n",
       "                            \n",
       "var gd = document.getElementById('aab1b5d3-6ada-4eb5-bb96-54260e54f54e');\n",
       "var x = new MutationObserver(function (mutations, observer) {{\n",
       "        var display = window.getComputedStyle(gd).display;\n",
       "        if (!display || display === 'none') {{\n",
       "            console.log([gd, 'removed!']);\n",
       "            Plotly.purge(gd);\n",
       "            observer.disconnect();\n",
       "        }}\n",
       "}});\n",
       "\n",
       "// Listen for the removal of the full notebook cells\n",
       "var notebookContainer = gd.closest('#notebook-container');\n",
       "if (notebookContainer) {{\n",
       "    x.observe(notebookContainer, {childList: true});\n",
       "}}\n",
       "\n",
       "// Listen for the clearing of the current output cell\n",
       "var outputEl = gd.closest('.output');\n",
       "if (outputEl) {{\n",
       "    x.observe(outputEl, {childList: true});\n",
       "}}\n",
       "\n",
       "                        })                };                });            </script>        </div>"
      ]
     },
     "metadata": {},
     "output_type": "display_data"
    }
   ],
   "source": [
    "import pandas as pd\n",
    "import numpy as np\n",
    "\n",
    "df = pd.read_excel('https://www2.census.gov/programs-surveys/popest/tables/2010-2019/state/totals/nst-est2019-01.xlsx')\n",
    "new_header = df.iloc[2] \n",
    "df = df[10:-5]\n",
    "df.dropna(inplace = True)\n",
    "df = df.replace('[^a-zA-Z0-9 ]', '', regex=True)\n",
    "df.columns = new_header\n",
    "df.rename(columns = {np.NaN : 'States'}, inplace= True)\n",
    "\n",
    "import plotly.express as px\n",
    "data = px.data.gapminder()\n",
    "\n",
    "fig = px.bar(df, x='States', y='Census',\n",
    "             hover_data=['Census'], color='Census',\n",
    "             labels={'pop':'population'}, height=400)\n",
    "fig.show()\n"
   ]
  },
  {
   "cell_type": "code",
   "execution_count": null,
   "metadata": {},
   "outputs": [],
   "source": []
  }
 ],
 "metadata": {
  "kernelspec": {
   "display_name": "Python 3",
   "language": "python",
   "name": "python3"
  },
  "language_info": {
   "codemirror_mode": {
    "name": "ipython",
    "version": 3
   },
   "file_extension": ".py",
   "mimetype": "text/x-python",
   "name": "python",
   "nbconvert_exporter": "python",
   "pygments_lexer": "ipython3",
   "version": "3.6.5-final"
  }
 },
 "nbformat": 4,
 "nbformat_minor": 4
}